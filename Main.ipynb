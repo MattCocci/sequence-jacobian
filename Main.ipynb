{
 "cells": [
  {
   "cell_type": "code",
   "execution_count": 1,
   "metadata": {},
   "outputs": [],
   "source": [
    "import Main\n",
    "import importlib\n",
    "import copy\n",
    "import numpy as np\n",
    "import matplotlib.pyplot as plt\n",
    "from scipy.optimize import minimize\n",
    "import wcopt\n",
    "import time\n",
    "import estimation as est\n",
    "import multiprocessing as mp\n",
    "import warnings\n",
    "                                                                                                                                                                                                                                                                                                                                                                                                                                                                                                                                                                                                                                                                                                                                                                                                                                                                                                                                                                                                                                                                                                                                                                                                                                                                                                                                            \n",
    "\n",
    "importlib.reload(Main)\n",
    "importlib.reload(wcopt)\n",
    "\n",
    "from IPython.core.display import display, HTML\n",
    "#display(HTML(\"<style>.container { width:80% !important; }</style>\"))"
   ]
  },
  {
   "cell_type": "markdown",
   "metadata": {},
   "source": [
    "# Initialization"
   ]
  },
  {
   "cell_type": "code",
   "execution_count": null,
   "metadata": {},
   "outputs": [],
   "source": [
    "# Run the model to initialize\n",
    "modelInfo = {'runcode' : 3}\n",
    "modelInfo = Main.SolveModel(modelInfo, True)"
   ]
  },
  {
   "cell_type": "code",
   "execution_count": null,
   "metadata": {},
   "outputs": [],
   "source": [
    "modelInfo['ss']['alpha']"
   ]
  },
  {
   "cell_type": "code",
   "execution_count": null,
   "metadata": {},
   "outputs": [],
   "source": [
    "print(G['C']['rstar'])\n",
    "print(G['Y']['markup'])\n",
    "\n",
    "# Output information about the initialization\n",
    "print(outputs)\n",
    "print(outputs_all)"
   ]
  },
  {
   "cell_type": "markdown",
   "metadata": {},
   "source": [
    "# Testing"
   ]
  },
  {
   "cell_type": "code",
   "execution_count": null,
   "metadata": {},
   "outputs": [],
   "source": [
    "## Testing\n",
    "importlib.reload(Main)\n",
    "\n",
    "Npd  = 100\n",
    "Nsim = 500\n",
    "\n",
    "inputs, outputs, theta0 = Main.getruncodeFeatures(runcode)\n",
    "outputs_all = inputs + outputs\n",
    "mZs         = Main.getShockMACoeffs(runcode, T)\n",
    "\n",
    "\n",
    "# Compare simulation from MA rep vs. simulation via direct draw\n",
    "print(\"From MA\")\n",
    "dY  = Main.SimModel(ss, G, Npd, T, Nsim, inputs, outputs_all, mZs, True, None)  # From MA\n",
    "print(\"From Drawing\")\n",
    "dY_ = Main.SimModel(ss, G, Npd, T, Nsim, inputs, outputs_all, mZs, False, None) # From draw\n",
    "plt.plot(dY[:,:,1])\n",
    "plt.show()\n",
    "plt.plot(dY_[:,:,1])\n",
    "plt.show()\n",
    "\n",
    "\n",
    "# Compute moments given simulation\n",
    "print(\"Moments\")\n",
    "muhats  = Main.compute_muhat(runcode, dY[:, len(inputs):, :])\n",
    "print(np.mean(muhats, axis=1))\n",
    "muhats_ = Main.compute_muhat(runcode, dY_[:, len(inputs):, :])\n",
    "print(np.mean(muhats_, axis=1))\n",
    "\n",
    "\n",
    "mXs_byo_byi, mXs_byi, mXs = Main.getEndogMACoeffs(G, mZs, inputs, outputs)\n",
    "Sigma  = est.all_covariances(mXs, np.ones(len(inputs)))\n",
    "\n",
    "print(np.vstack([np.diag(Sigma[0,:,:]), np.diag(np.cov(dY[:,len(inputs):,1].T))]).T)\n",
    "\n",
    "\n",
    "\n",
    "# # Test analytical h\n",
    "# print('Testing analytical h')\n",
    "# print(Main.h_analytical(G, inputs, outputs, mZs, runcode))\n",
    "\n",
    "\n",
    "# # Test feeder h\n",
    "# print(\"\")\n",
    "# print('Testing h, empirical, sim from MA')\n",
    "# print(Main.h([], ss, Npd, T, inputs, outputs, runcode, empirical=True, simFromMA=True, Nsim=Nsim))\n",
    "\n",
    "# print('Testing h, empirical, direct draw')\n",
    "# print(Main.h([], ss, Npd, T, inputs, outputs, runcode, empirical=True, simFromMA=False, Nsim=Nsim))\n",
    "\n",
    "# print('Testing analytical h')\n",
    "# print(Main.h([], ss, Npd, T, inputs, outputs, runcode, empirical=False))"
   ]
  },
  {
   "cell_type": "markdown",
   "metadata": {},
   "source": [
    "# Running"
   ]
  },
  {
   "cell_type": "markdown",
   "metadata": {},
   "source": [
    "## Simulation"
   ]
  },
  {
   "cell_type": "code",
   "execution_count": null,
   "metadata": {},
   "outputs": [
    {
     "name": "stdout",
     "output_type": "stream",
     "text": [
      "Computing steady state\n"
     ]
    }
   ],
   "source": [
    "# Simulate and Save\n",
    "importlib.reload(Main)\n",
    "runcode = 5\n",
    "Npd     = 300  # Number of periods to simulate\n",
    "Nsim    = 1000\n",
    "fromMA  = True\n",
    "\n",
    "resim = True\n",
    "if resim:\n",
    "    Main.muhatsSim(runcode, Npd, Nsim, fromMA, save=True, verbose=False)"
   ]
  },
  {
   "cell_type": "code",
   "execution_count": null,
   "metadata": {},
   "outputs": [],
   "source": [
    "# Comparing simulations generated from MA vs. direct drawing\n",
    "simCompare = True\n",
    "runcode = 3\n",
    "T       = 300\n",
    "Nsim    = 1000\n",
    "Npd     = 300  # Number of periods to simulate\n",
    "if simCompare:\n",
    "    savepath_MA  = \"Results/muhats_%s.npy\" % Main.getStrSave(runcode, T, Npd, Nsim, True)\n",
    "    savepath_sim = \"Results/muhats_%s.npy\" % Main.getStrSave(runcode, T, Npd, Nsim, False)\n",
    "\n",
    "    muhats_MA  = np.load(savepath_MA)\n",
    "    muhats_sim = np.load(savepath_sim)    \n",
    "    \n",
    "    print(np.vstack([muhats_MA.mean(axis=1), muhats_sim.mean(axis=1)]).transpose())\n",
    "    print(100*(muhats_MA.mean(axis=1)-muhats_sim.mean(axis=1)) / muhats_sim.mean(axis=1))\n",
    "    \n",
    "# plt.plot(muhats_MA[7,:])\n",
    "# plt.show()\n",
    "# plt.plot(muhats_sim[7,:])\n",
    "# plt.show()"
   ]
  },
  {
   "cell_type": "code",
   "execution_count": null,
   "metadata": {},
   "outputs": [],
   "source": [
    "muhats_sim.shape"
   ]
  },
  {
   "cell_type": "markdown",
   "metadata": {},
   "source": [
    "## Identification"
   ]
  },
  {
   "cell_type": "code",
   "execution_count": null,
   "metadata": {},
   "outputs": [],
   "source": [
    "importlib.reload(Main)\n",
    "\n",
    "Npd     = 100  # Number of periods to simulate\n",
    "runcode = 3\n",
    "checkID = True\n",
    "if checkID:\n",
    "    Main.identificationPlots(runcode, Npd)\n"
   ]
  },
  {
   "cell_type": "code",
   "execution_count": null,
   "metadata": {},
   "outputs": [],
   "source": []
  },
  {
   "cell_type": "markdown",
   "metadata": {},
   "source": [
    "## Moment Matching"
   ]
  },
  {
   "cell_type": "code",
   "execution_count": null,
   "metadata": {},
   "outputs": [],
   "source": [
    "importlib.reload(wcopt)\n",
    "importlib.reload(Main)\n",
    "\n",
    "# Load moments and do moment-matching\n",
    "runcode = 1\n",
    "T       = 300\n",
    "Npd     = 300  # Number of periods to simulate\n",
    "Nsim    = 1000\n",
    "fromMA  = False\n",
    "\n",
    "hempirical = False\n",
    "hfromMA    = False\n",
    "seed       = 314\n",
    "\n",
    "nparallel  = 2\n",
    "\n",
    "rematch    = True\n",
    "if rematch:\n",
    "    res = Main.MomentMatchRuns(runcode, T, Npd, Nsim, fromMA, hempirical, hfromMA, nparallel)\n",
    "\n"
   ]
  },
  {
   "cell_type": "code",
   "execution_count": null,
   "metadata": {},
   "outputs": [],
   "source": [
    "print(\"Number of processors: \", mp.cpu_count())\n",
    "joe = lambda : print(\"bob\")\n",
    "joe()\n",
    "pool.close()\n",
    "np.size([]) == 0"
   ]
  }
 ],
 "metadata": {
  "kernelspec": {
   "display_name": "Python 3",
   "language": "python",
   "name": "python3"
  },
  "language_info": {
   "codemirror_mode": {
    "name": "ipython",
    "version": 3
   },
   "file_extension": ".py",
   "mimetype": "text/x-python",
   "name": "python",
   "nbconvert_exporter": "python",
   "pygments_lexer": "ipython3",
   "version": "3.7.3"
  }
 },
 "nbformat": 4,
 "nbformat_minor": 2
}
