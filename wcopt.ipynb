{
 "cells": [
  {
   "cell_type": "code",
   "execution_count": 64,
   "metadata": {},
   "outputs": [],
   "source": [
    "import numpy as np\n",
    "import pandas as pd\n",
    "import matplotlib.pyplot as plt\n",
    "from scipy.optimize import minimize\n",
    "\n",
    "import wcopt\n",
    "\n",
    "import importlib\n",
    "importlib.reload(wcopt)\n",
    "\n",
    "from IPython.core.display import display, HTML\n",
    "#display(HTML(\"<style>.container { width:80% !important; }</style>\"))"
   ]
  },
  {
   "cell_type": "code",
   "execution_count": 65,
   "metadata": {},
   "outputs": [
    {
     "name": "stdout",
     "output_type": "stream",
     "text": [
      "[[ 1.  0.]\n",
      " [ 1. -1.]\n",
      " [ 0.  1.]\n",
      " [ 0.  1.]]\n",
      "[[10.81370905  0.86791506  1.07547729  3.72939856]\n",
      " [ 0.86791506 16.26419539 -1.61693434 -3.98966489]\n",
      " [ 1.07547729 -1.61693434  4.40006733  0.6261296 ]\n",
      " [ 3.72939856 -3.98966489  0.6261296  13.79929655]]\n"
     ]
    }
   ],
   "source": [
    "# Toy model: G fcn and h\n",
    "G = np.zeros((4,2))\n",
    "G[0,0] = 1\n",
    "G[1,0] = 1\n",
    "G[1,1] = 1\n",
    "G[1,1] = -1\n",
    "G[2,1] = 1\n",
    "G[3,1] = 1\n",
    "print(G)\n",
    "p, k   = G.shape\n",
    "I      = np.identity(2)\n",
    "lamb   = I[:,1:2]\n",
    "h      = lambda theta: np.reshape(G @ theta, (p,1))\n",
    "\n",
    "# Variance\n",
    "X = np.random.normal(size=(10,p))\n",
    "V = np.matmul(X.transpose(), X)\n",
    "print(V)"
   ]
  },
  {
   "cell_type": "code",
   "execution_count": 16,
   "metadata": {},
   "outputs": [],
   "source": [
    "# Check worst case optimal computation \n",
    "W, stderr, Vout, x, z = wcopt.ComputeWorstCaseOptimal_Single(V, G, lamb, 1e-6)"
   ]
  },
  {
   "cell_type": "code",
   "execution_count": 66,
   "metadata": {},
   "outputs": [],
   "source": [
    "## Test out the full estimation function and results bundling\n",
    "\n",
    "\n",
    "# Set parameters for testing\n",
    "theta_true    = np.reshape(np.array([1,1]), (2,1))\n",
    "theta0        = np.reshape(np.array([0,0]), (2,1))\n",
    "cv            = 1.96\n",
    "l             = -np.inf\n",
    "u             = np.inf\n",
    "fullyFeasible = False\n",
    "Nsim          = 500\n",
    "\n",
    "\n",
    "muhats        = h(theta_true) + np.random.multivariate_normal(np.zeros(p), V, size=Nsim).T\n",
    "Gfcn_         = lambda theta: wcopt.ComputeG(h, theta)\n",
    "Nobs = 1\n",
    "\n",
    "\n",
    "# Loop over simulations\n",
    "cov    = np.zeros((5,Nsim,k))\n",
    "thetas = np.zeros((5,Nsim,k))\n",
    "for s in range(Nsim):\n",
    "    \n",
    "    # Loop over parameters\n",
    "    for k_ in range(k):\n",
    "        lamb = I[:,k_]\n",
    "        res = wcopt.TestSingle(muhats[:,s], V, Nobs, lamb, theta0, theta_true, cv, l, u, fullyFeasible, Gfcn_, h, True)\n",
    "        cov[:,s,k_] = np.array([res[approach]['coverage'] for approach in ['naive', 'wcopt', 'wcopt_onestep', 'opt', 'opt_onestep']])\n",
    "        thetas[:,s,k_] = np.array([res[approach]['lcomb'] for approach in ['naive', 'wcopt', 'wcopt_onestep', 'opt', 'opt_onestep']])\n",
    "        \n",
    "print(cov[:,:,0].mean(axis=1))\n",
    "print(cov[:,:,1].mean(axis=1))   "
   ]
  },
  {
   "cell_type": "code",
   "execution_count": 67,
   "metadata": {},
   "outputs": [
    {
     "name": "stdout",
     "output_type": "stream",
     "text": [
      "[0.938 0.948 0.948 0.944 0.944]\n",
      "[0.912 0.948 0.948 0.952 0.952]\n"
     ]
    }
   ],
   "source": []
  }
 ],
 "metadata": {
  "kernelspec": {
   "display_name": "Python 3",
   "language": "python",
   "name": "python3"
  },
  "language_info": {
   "codemirror_mode": {
    "name": "ipython",
    "version": 3
   },
   "file_extension": ".py",
   "mimetype": "text/x-python",
   "name": "python",
   "nbconvert_exporter": "python",
   "pygments_lexer": "ipython3",
   "version": "3.7.3"
  }
 },
 "nbformat": 4,
 "nbformat_minor": 2
}
